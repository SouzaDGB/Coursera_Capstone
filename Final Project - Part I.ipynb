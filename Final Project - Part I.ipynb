{
 "cells": [
  {
   "cell_type": "markdown",
   "metadata": {},
   "source": [
    "<a href=\"https://cognitiveclass.ai\"><img src = \"https://ibm.box.com/shared/static/9gegpsmnsoo25ikkbl4qzlvlyjbgxs5x.png\" width = 400> </a>\n",
    "\n",
    "<h1 align=center><font size = 5>Capstone Project - Part I</font></h1>\n",
    "<h3 align=center><font size = 3>Exploring Brazilian COVID-19 data and building a predictive model according to the nacional reality. </font></h3>"
   ]
  },
  {
   "cell_type": "markdown",
   "metadata": {},
   "source": [
    "## Introduction"
   ]
  },
  {
   "cell_type": "markdown",
   "metadata": {},
   "source": [
    "The novel coronavirus 2019, also known as 2019-nCoV or SARS-COV-2, has already infected $380,000$ people and caused $20,000$ deaths only in Brazil. This outbreak of novel coronavirus disease, or COVID-19, has moved to pandemic status and almost all countries in the globe are daily reporting new cases. All these data are generally collected by national health surveillance systems (HSS) and later compiled and reported by international organizations, research centers, and websites. According to those data, projections of future cases are made, in order to prepare and to adapt the health systems.\n",
    "\n",
    "However, Brazil is facing a big problem: the official COVID-19 data is not trustable. The number of COVID-19 tests is to low, which inflates the mortality rates by COVID-19 and do not capture all people dying from this disease. \n",
    "\n",
    "Today, many COVID-19 projections are made according to those official data, which may lead to inaccurate values and, consequently, to bad decisions.  Thus, in this capstone project my objective is to search, scrap and wrangle other data that could be used to display the realtime Brazilian situation on facing COVID-19. This situation will be illustrated by using Foursquare location data.\n",
    "\n",
    "Despite using many tools learned in the IBM courses, this project may serve as a first attempt to help Brazilian decision-makers on fighting COVID-19."
   ]
  },
  {
   "cell_type": "markdown",
   "metadata": {},
   "source": [
    "## Data"
   ]
  },
  {
   "cell_type": "markdown",
   "metadata": {},
   "source": [
    "In order to get around the Brazilian official data, other datasets and variables could be used to show the real Brazilian situation on facing COVID-19, such as:\n",
    "* City-level datasets that compile the daily hospital beds availability;\n",
    "* Notary's office datases that compile the number of people that died from other respiratory diseases, such as pneumonia. It could potencialy be COVID-19, since there are not enought test available. \n",
    "\n",
    "Other datasets that could be used are:\n",
    "* Datasets containing social indicators of Brazil;\n",
    "* Datasets containing geographic coordinates of Brazilian city centers.\n",
    "\n",
    "Since Brazil is to big and its regions to different among each other, I may consider in this project only a especific portion of Brazilian. The north part may be a good candidate. It contains the Amazon rainforest and is one of the most social vulnerable Brazilian regions."
   ]
  }
 ],
 "metadata": {
  "kernelspec": {
   "display_name": "Python 3",
   "language": "python",
   "name": "python3"
  },
  "language_info": {
   "codemirror_mode": {
    "name": "ipython",
    "version": 3
   },
   "file_extension": ".py",
   "mimetype": "text/x-python",
   "name": "python",
   "nbconvert_exporter": "python",
   "pygments_lexer": "ipython3",
   "version": "3.7.6"
  },
  "latex_envs": {
   "LaTeX_envs_menu_present": true,
   "autoclose": false,
   "autocomplete": true,
   "bibliofile": "biblio.bib",
   "cite_by": "apalike",
   "current_citInitial": 1,
   "eqLabelWithNumbers": true,
   "eqNumInitial": 1,
   "hotkeys": {
    "equation": "Ctrl-E",
    "itemize": "Ctrl-I"
   },
   "labels_anchors": false,
   "latex_user_defs": false,
   "report_style_numbering": false,
   "user_envs_cfg": false
  }
 },
 "nbformat": 4,
 "nbformat_minor": 4
}
